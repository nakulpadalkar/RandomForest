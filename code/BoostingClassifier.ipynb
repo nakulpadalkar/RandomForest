{
 "cells": [
  {
   "cell_type": "code",
   "execution_count": 24,
   "metadata": {},
   "outputs": [],
   "source": [
    "import numpy as np\n",
    "import matplotlib.pyplot as plt\n",
    "from matplotlib.backends.backend_pdf import PdfPages\n",
    "from sklearn.datasets import make_classification\n",
    "from sklearn.tree import DecisionTreeClassifier, plot_tree\n",
    "from sklearn.ensemble import BaggingClassifier\n",
    "import dtreeviz\n",
    "\n",
    "csfont = {'fontname':'Times New Roman'}\n",
    "\n",
    "# Generate toy dataset\n",
    "X, y = make_classification(n_samples=150, n_features=2, n_informative=2,\n",
    "                           n_redundant=0, n_clusters_per_class=1, random_state=42)\n",
    "\n",
    "# Create bagged classifier using decision trees\n",
    "bagged_classifier = BaggingClassifier(DecisionTreeClassifier(), n_estimators=3)\n",
    "bagged_classifier.fit(X, y)\n",
    "\n",
    "# Get the individual decision trees from the ensemble\n",
    "decision_trees = bagged_classifier.estimators_\n",
    "\n",
    "# Calculate the weights of the classifiers in the bag\n",
    "weights = np.ones(len(decision_trees)) / len(decision_trees)\n",
    "\n",
    "# Plot decision regions\n",
    "x_min, x_max = X[:, 0].min() - 1, X[:, 0].max() + 1\n",
    "y_min, y_max = X[:, 1].min() - 1, X[:, 1].max() + 1\n",
    "xx, yy = np.meshgrid(np.arange(x_min, x_max, 0.02),\n",
    "                     np.arange(y_min, y_max, 0.02))\n",
    "\n",
    "plt.figure(figsize=(12, 4))\n",
    "\n",
    "for i, tree in enumerate(decision_trees):\n",
    "    Z = tree.predict(np.c_[xx.ravel(), yy.ravel()])\n",
    "    Z = Z.reshape(xx.shape)\n",
    "\n",
    "    # Plot decision regions\n",
    "    plt.subplot(131 + i)\n",
    "    plt.contourf(xx, yy, Z, alpha=0.4)\n",
    "    plt.scatter(X[:, 0], X[:, 1], c=y, edgecolors='k')\n",
    "    plt.title(f'Decision Tree {i+1}', fontsize=12, fontweight='bold',**csfont)\n",
    "\n",
    "    # Add weights to the plot\n",
    "    plt.text(0.05, 0.95, f\"Weight: {weights[i]:.2f}\",\n",
    "             transform=plt.gca().transAxes, va='top')\n",
    "\n",
    "plt.tight_layout()\n",
    "plt.savefig('../figures/bagged_classifier_decision_regions.pdf', format='pdf')\n",
    "plt.show()\n"
   ]
  },
  {
   "cell_type": "code",
   "execution_count": null,
   "metadata": {},
   "outputs": [
    {
     "name": "stdout",
     "output_type": "stream",
     "text": [
      "Decision trees saved in 'bagged_classifier_decision_trees.pdf'\n"
     ]
    }
   ],
   "source": [
    "# Create a PDF file to save the decision trees\n",
    "with PdfPages('../figures/bagged_classifier_decision_trees.pdf') as pdf:\n",
    "    # Save each decision tree as a separate page in the PDF\n",
    "    for i, tree in enumerate(decision_trees):\n",
    "        viz = dtreeviz.model(tree,\n",
    "                       X,\n",
    "                       y,\n",
    "                       target_name='Class',\n",
    "                       feature_names=['Feature 1', 'Feature 2'],\n",
    "                       class_names=['Class 1', 'Class -1'])\n",
    "        v = viz.view()\n",
    "        v.save(f'../figures/decision_tree_{i+1}.svg')\n",
    "        plt.close()\n",
    "\n",
    "print(\"Decision trees saved in 'bagged_classifier_decision_trees.pdf'\")"
   ]
  },
  {
   "cell_type": "code",
   "execution_count": null,
   "metadata": {},
   "outputs": [
    {
     "ename": "TypeError",
     "evalue": "drawToFile() got an unexpected keyword argument 'pagesize'",
     "output_type": "error",
     "traceback": [
      "\u001b[1;31m---------------------------------------------------------------------------\u001b[0m",
      "\u001b[1;31mTypeError\u001b[0m                                 Traceback (most recent call last)",
      "Cell \u001b[1;32mIn[23], line 14\u001b[0m\n\u001b[0;32m     12\u001b[0m \u001b[39m# Save the drawings as PDF\u001b[39;00m\n\u001b[0;32m     13\u001b[0m pdf_file \u001b[39m=\u001b[39m \u001b[39m\"\u001b[39m\u001b[39m../figures/decision_trees.pdf\u001b[39m\u001b[39m\"\u001b[39m\n\u001b[1;32m---> 14\u001b[0m renderPDF\u001b[39m.\u001b[39;49mdrawToFile(drawings, pdf_file, pagesize\u001b[39m=\u001b[39;49mletter)\n\u001b[0;32m     16\u001b[0m \u001b[39mprint\u001b[39m(\u001b[39mf\u001b[39m\u001b[39m\"\u001b[39m\u001b[39mDecision trees saved in \u001b[39m\u001b[39m'\u001b[39m\u001b[39m{\u001b[39;00mpdf_file\u001b[39m}\u001b[39;00m\u001b[39m'\u001b[39m\u001b[39m\"\u001b[39m)\n",
      "\u001b[1;31mTypeError\u001b[0m: drawToFile() got an unexpected keyword argument 'pagesize'"
     ]
    }
   ],
   "source": [
    "from svglib.svglib import svg2rlg\n",
    "from reportlab.graphics import renderPDF\n",
    "from reportlab.lib.pagesizes import letter\n",
    "from reportlab.pdfgen import canvas\n",
    "\n",
    "# Convert SVG files to ReportLab drawings\n",
    "drawings = []\n",
    "svg_files = [\"decision_tree_1.svg\", \"decision_tree_2.svg\", \"decision_tree_3.svg\"]\n",
    "for svg_file in svg_files:\n",
    "    drawing = svg2rlg(svg_file)\n",
    "    drawings.append(drawing)\n",
    "\n",
    "# Save the drawings as PDF\n",
    "pdf_file = \"../figures/decision_trees.pdf\"\n",
    "c = canvas.Canvas(pdf_file, pagesize=letter)\n",
    "for drawing in drawings:\n",
    "    drawing_width, drawing_height = drawing.width, drawing.height\n",
    "    c.setPageSize((drawing_width, drawing_height))\n",
    "    c.drawImage(drawing, 0, 0, width=drawing_width, height=drawing_height)\n",
    "    c.showPage()\n",
    "c.save()\n",
    "\n",
    "print(f\"Decision trees saved in '{pdf_file}'\")\n"
   ]
  }
 ],
 "metadata": {
  "kernelspec": {
   "display_name": "Python 3",
   "language": "python",
   "name": "python3"
  },
  "language_info": {
   "codemirror_mode": {
    "name": "ipython",
    "version": 3
   },
   "file_extension": ".py",
   "mimetype": "text/x-python",
   "name": "python",
   "nbconvert_exporter": "python",
   "pygments_lexer": "ipython3",
   "version": "3.9.13"
  },
  "orig_nbformat": 4
 },
 "nbformat": 4,
 "nbformat_minor": 2
}
